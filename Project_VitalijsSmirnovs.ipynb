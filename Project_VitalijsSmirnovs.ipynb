{
 "cells": [
  {
   "cell_type": "markdown",
   "metadata": {},
   "source": [
    "# Project\n",
    "## Analysis of tips data\n",
    "## Student: Vitalijs Smirniovs\n",
    "## ID: G00317774"
   ]
  },
  {
   "attachments": {
    "image.png": {
     "image/png": "[encoded data removed]"
    }
   },
   "cell_type": "markdown",
   "metadata": {},
   "source": [
    "### Tipping Data\n",
    "\n",
    "Tipping data was recorded by one food server in a restorant and contains the following info on all customers he/she had served during a interval of two and a half months in early 1990. The restaurant,located in a suburban shopping mall, was one of a national chain and served a varied menu. The said restaurant offered seating in both non-smoking sand smoking ections to customers who requested it. The data was collected on the days and times when the food server was routinely assigned to work.[https://dicook.public.iastate.edu/stat503/05/cs-tips2.pdf] The idea behind collecting these data was that managers need to know what affects tipping so that could assign tables to waiters \"equally\", thu, giving the opportunity for each of them to earn similar amount.\n",
    "\n",
    "So we will try to do this for this restaurant and figure out what affects tips in a restaurant. Or even can we reliably figure out the level of tips from observable customers' characteristics.\n",
    "\n",
    "THe data set contains the following variables:\n",
    "![image.png](attachment:image.png)\n",
    "\n",
    "#### The plan of this project:\n",
    "1. Summary stats and visuals\n",
    "2. Relationship between vars: Correlations ( plotting data)\n",
    "3. Regression analysis\n"
   ]
  },
  {
   "cell_type": "code",
   "execution_count": null,
   "metadata": {},
   "outputs": [],
   "source": [
    "# import necessary libraries\n",
    "import matplotlib.pyplot as plt\n",
    "import numpy as np\n",
    "import pandas as pd\n",
    "import seaborn as sns"
   ]
  },
  {
   "cell_type": "code",
   "execution_count": null,
   "metadata": {},
   "outputs": [],
   "source": [
    "# load tips data\n",
    "df = sns.load_dataset(\"tips\")\n",
    "# view top 5 rows of data\n",
    "print(df.head())\n",
    "# view last 5 rows of data\n",
    "print(df.tail())\n",
    "#data info\n",
    "print(df.info())"
   ]
  },
  {
   "cell_type": "markdown",
   "metadata": {},
   "source": [
    "After loading tips data set as a data frame, we check if data loaded correctly. For this we call **heah/tail** commands. **data.info()** shows that three vars are numerical and four vars are categorical. The data set has 244 rows and 7 columns."
   ]
  },
  {
   "cell_type": "code",
   "execution_count": null,
   "metadata": {},
   "outputs": [],
   "source": [
    "# summary stats for nmerical data\n",
    "df.describe()"
   ]
  },
  {
   "cell_type": "markdown",
   "metadata": {},
   "source": [
    "The average bill is approx 20 dollars, average tip is approx 3 dollars and average size of the party is 2.6 people (if we can describe people in fractions).\n",
    "\n",
    "AS can be seen only numerical vars are shown after **describe()**. It would be nice to glance at our categorical vars. Did men in the 90s paid bills more often than women? Were there more skomers? On what days the waiter surved more people?\n",
    "\n",
    "**value.counts()** halps to pull frequencies for categorical variables and plotting these values using seaborn **countplot()** allows us to visualise this frequencies by category."
   ]
  },
  {
   "cell_type": "code",
   "execution_count": null,
   "metadata": {},
   "outputs": [],
   "source": [
    "# print frequencis for categorical vars\n",
    "print(df['sex'].value_counts())\n",
    "print(df['smoker'].value_counts())\n",
    "print(df['day'].value_counts())\n",
    "print(df['time'].value_counts())\n",
    "# visualise\n",
    "sns.countplot(x='sex', data=df)\n",
    "plt.show()\n",
    "sns.countplot(x='smoker', data=df)\n",
    "plt.show()\n",
    "sns.countplot(x='day', data=df)\n",
    "plt.show()\n",
    "sns.countplot(x='time', data=df)\n",
    "plt.show()\n"
   ]
  },
  {
   "cell_type": "markdown",
   "metadata": {},
   "source": [
    "So the said waiter served almost twice as many male bill payer as female. There were more people surved in non-smoking area. more people surved for dinner and more customers were served on Saturday. The way the data was collected it is hard to judge whether these info reflects the restaurant overall pattern or it is just coinsidental for this particular waiter.\n",
    "\n",
    "Let's group our dataset by gender, smoking habits, day of the week and dinner vs lunch and see quickly if means vary by groups."
   ]
  },
  {
   "cell_type": "code",
   "execution_count": null,
   "metadata": {},
   "outputs": [],
   "source": [
    "# group data by category and see if averages differ\n",
    "# adapted from: https://www.shanelynn.ie/summarising-aggregation-and-grouping-data-in-python-pandas/\n",
    "grsex = df.groupby(\"sex\")\n",
    "grsmoker = df.groupby(\"smoker\")\n",
    "grday = df.groupby(\"day\")\n",
    "grtime = df.groupby(\"time\")\n"
   ]
  },
  {
   "cell_type": "markdown",
   "metadata": {},
   "source": [
    "Running **describe()** by groups created, we can see that mean total bill paid is higher for male than female customers and tipp is also higher for this group (which is expected as presumably customers pay a sort of percentage of the bill in tipps) howerver we can see tha median tipp is equal for both genders.\n",
    "\n",
    "Similarly, the mean bill and tip for smokers is higher than for non-smokers.\n",
    "\n",
    "Interstingly, the average bill is the highest on Saturday but the tip is the highest on Sunday.\n",
    "\n",
    "Men, on average, came in bigger groups than women, so are non-smokers. On Sunday group size was on average bigger than on other days."
   ]
  },
  {
   "cell_type": "code",
   "execution_count": null,
   "metadata": {},
   "outputs": [],
   "source": [
    "print(grsex.describe())\n",
    "print(grsmoker.describe())\n",
    "print(grday.describe())\n",
    "print(grtime.describe())"
   ]
  },
  {
   "cell_type": "markdown",
   "metadata": {},
   "source": [
    "May be a better way to display grouping data is by using **df.pivot()** as below. The tables printed have a neater shape to them and in my view easiyer to read."
   ]
  },
  {
   "cell_type": "code",
   "execution_count": null,
   "metadata": {},
   "outputs": [],
   "source": [
    "# in this cell I describe for 2 groups smoker and sex to compare tip and size within male and female group\n",
    "print(df.pivot(columns = 'smoker').describe())\n",
    "print(df.pivot(columns = 'sex').describe())"
   ]
  },
  {
   "cell_type": "code",
   "execution_count": null,
   "metadata": {},
   "outputs": [],
   "source": [
    "# adapted from: https://matplotlib.org/3.1.0/gallery/subplots_axes_and_figures/subplots_demo.html\n",
    "# and: https://stackoverflow.com/questions/332289/how-do-you-change-the-size-of-figures-drawn-with-matplotlib\n",
    "# https://stackoverflow.com/questions/12608788/changing-the-tick-frequency-on-x-or-y-axis-in-matplotlib\n",
    "import matplotlib.ticker as ticker\n",
    "fig, (ax1, ax2, ax3) = plt.subplots(1, 3, figsize=(10, 5))\n",
    "ax1=sns.distplot(df[\"tip\"], ax=ax1)\n",
    "ax2= sns.distplot(df[\"total_bill\"],  ax=ax2)\n",
    "ax3= sns.distplot(df[\"size\"],  ax=ax3)\n",
    "tick_spacing = 1\n",
    "ax1.xaxis.set_major_locator(ticker.MultipleLocator(tick_spacing))\n",
    "ax3.xaxis.set_major_locator(ticker.MultipleLocator(tick_spacing))\n",
    "plt.show()"
   ]
  },
  {
   "cell_type": "markdown",
   "metadata": {},
   "source": [
    "Figures above allow one to see the distribution of variables. It seems that tip and total bill have a bell shaped distribution slightly skewed to the left. While size of the party was predominanty 2, which is expected for a restaurant."
   ]
  },
  {
   "cell_type": "code",
   "execution_count": null,
   "metadata": {},
   "outputs": [],
   "source": [
    "sns.pairplot(data=df, kind=\"reg\")\n",
    "plt.show()"
   ]
  },
  {
   "cell_type": "markdown",
   "metadata": {},
   "source": [
    "Seaborn **pairplot()** with regression line is an excellent way to see if there is a relationship between quntitative variables. AS suspected before, we can now confirm that the hicher the bill - the higher the tip, the bigger the group - the higher the tip."
   ]
  },
  {
   "cell_type": "code",
   "execution_count": null,
   "metadata": {},
   "outputs": [],
   "source": [
    "sns.pairplot(data=df, kind=\"reg\", hue=\"sex\")\n",
    "plt.show()"
   ]
  },
  {
   "cell_type": "markdown",
   "metadata": {},
   "source": [
    "Let's explore byt gender. It seems that the line is steaper for female bill-payer for bill and tip as the size went up. May be male bill-payers spend more and tipp more in bigger groups?"
   ]
  },
  {
   "cell_type": "code",
   "execution_count": null,
   "metadata": {},
   "outputs": [],
   "source": [
    "sns.pairplot(data=df, kind=\"reg\", hue=\"smoker\")\n",
    "plt.show()"
   ]
  },
  {
   "cell_type": "markdown",
   "metadata": {},
   "source": [
    "From the pairplots above it seems that regression lines is steaper for non-smokers for tipping. Are non-smokers more generous tippers?"
   ]
  },
  {
   "cell_type": "code",
   "execution_count": null,
   "metadata": {},
   "outputs": [],
   "source": [
    "sns.pairplot(data=df, kind=\"reg\", hue=\"time\")\n",
    "plt.show()"
   ]
  },
  {
   "cell_type": "markdown",
   "metadata": {},
   "source": [
    "We would expect that people spend more for dinner and would be more generous in tipping (may be drinking a bit and becoming more joly?).\n",
    "\n",
    "However, the pairplots above show that tipping regression lines are steaper for lunch."
   ]
  },
  {
   "cell_type": "code",
   "execution_count": null,
   "metadata": {},
   "outputs": [],
   "source": [
    "sns.pairplot(data=df, kind=\"reg\", hue=\"day\")\n",
    "plt.show()"
   ]
  },
  {
   "cell_type": "markdown",
   "metadata": {},
   "source": [
    "It looks like the tpping regression line is steaper on Thursdays.\n",
    "\n",
    "Differences between the groups are normally ploted on box plots."
   ]
  },
  {
   "cell_type": "code",
   "execution_count": null,
   "metadata": {},
   "outputs": [],
   "source": [
    "fig, ax = plt.subplots(4, 2, figsize=(15, 10))\n",
    "plt.subplot(421)\n",
    "sns.boxplot(\"sex\", y = \"total_bill\", data = df)\n",
    "plt.subplot(422)\n",
    "sns.boxplot(\"sex\", y = \"tip\", data = df)\n",
    "plt.subplot(423)\n",
    "sns.boxplot(\"smoker\", y = \"total_bill\", data = df)\n",
    "plt.subplot(424)\n",
    "sns.boxplot(\"smoker\", y = \"tip\", data = df)\n",
    "plt.subplot(425)\n",
    "sns.boxplot(\"time\", y = \"total_bill\", data = df)\n",
    "plt.subplot(426)\n",
    "sns.boxplot(\"time\", y = \"tip\", data = df)\n",
    "plt.subplot(427)\n",
    "sns.boxplot(\"day\", y = \"total_bill\", data = df)\n",
    "plt.subplot(428)\n",
    "sns.boxplot(\"day\", y = \"tip\", data = df)\n",
    "plt.show()\n",
    "\n"
   ]
  },
  {
   "cell_type": "markdown",
   "metadata": {},
   "source": [
    "Box plots are used to show overall patterns of response for a group. They provide a useful way to visualise the range and other characteristics of responses for a large group. Any obvious difference between box plots for comparative groups is worthy of further investigation. [https://www.wellbeingatschool.org.nz/information-sheet/understanding-and-interpreting-box-plots]\n",
    "\n",
    "Boxplots show that there is high variation in expenditure by male customers and in tipping (a lot of outliers). While female box for expenditure and tipp is \"tighter\", pleaning that values cluster closer together. THis may mean that what men spend or tip is harder to predict.\n",
    "\n",
    "There is higher variation in expenditure by smokers but otherwise, it looks like expenditure and tipping patterns are similar.\n",
    "\n",
    "Although people seems to spent more for Dinner on average, we can see that the bottom wiskers of the boxplot fot Dinner is lowe, higher variation, the same is true for tips.\n",
    "\n",
    "Total bill is higher for weeknds but th median tipp seems very similar by day.\n",
    "\n",
    "Let's explore data further by plotting 3-dimentional boxplots (see below).\n",
    "It seems like women spend less than man on their food but tipped aproximately the same. Althou it seems that men are model likely to spend above average and tip above average as well.\n",
    "\n",
    "So there is no clear patten emerges from visualising data. Although I have a hypothesis at this stage that: tip size depends on the bill size, on the size of the group (although this one may be related to the bill size), time of the day (lunch/dinner) and gender.\n",
    "\n",
    "Let's try to formally test it."
   ]
  },
  {
   "cell_type": "code",
   "execution_count": null,
   "metadata": {},
   "outputs": [],
   "source": [
    "fig= plt.subplots(1, 2, figsize=(15, 5))\n",
    "plt.subplot(121)\n",
    "sns.boxplot(x = \"day\", y = \"total_bill\", hue = \"sex\", data = df)\n",
    "plt.subplot(122)\n",
    "sns.boxplot(x = \"day\", y = \"tip\", hue = \"sex\", data = df)\n",
    "plt.show()\n",
    "\n",
    "fig= plt.subplots(1, 2, figsize=(15, 5))\n",
    "plt.subplot(121)\n",
    "sns.boxplot(x = \"size\", y = \"total_bill\", hue = \"smoker\", data = df)\n",
    "plt.subplot(122)\n",
    "sns.boxplot(x = \"size\", y = \"tip\", hue = \"smoker\", data = df)\n",
    "plt.show()\n",
    "\n",
    "fig= plt.subplots(1, 2, figsize=(15, 5))\n",
    "plt.subplot(121)\n",
    "sns.boxplot(x = \"time\", y = \"total_bill\", hue = \"sex\", data = df)\n",
    "plt.subplot(122)\n",
    "sns.boxplot(x = \"time\", y = \"tip\", hue = \"sex\", data = df)\n",
    "plt.show()"
   ]
  },
  {
   "cell_type": "code",
   "execution_count": null,
   "metadata": {},
   "outputs": [],
   "source": [
    "# adapted from https://towardsdatascience.com/feature-selection-with-pandas-e3690ad8504b\n",
    "plt.figure(figsize=(12,10))\n",
    "cor = df.corr()\n",
    "sns.heatmap(cor, annot=True, cmap=plt.cm.Reds)\n",
    "plt.show()"
   ]
  },
  {
   "cell_type": "markdown",
   "metadata": {},
   "source": [
    "So we can see that **corr()** gives us output for only quantitative vars. The away around it is to convert varibales into dummy variables."
   ]
  },
  {
   "cell_type": "code",
   "execution_count": 1,
   "metadata": {},
   "outputs": [
    {
     "ename": "NameError",
     "evalue": "name 'pd' is not defined",
     "output_type": "error",
     "traceback": [
      "\u001b[1;31m---------------------------------------------------------------------------\u001b[0m",
      "\u001b[1;31mNameError\u001b[0m                                 Traceback (most recent call last)",
      "\u001b[1;32m<ipython-input-1-7c0bbfa3dfbb>\u001b[0m in \u001b[0;36m<module>\u001b[1;34m\u001b[0m\n\u001b[0;32m      1\u001b[0m \u001b[1;31m# https://chrisalbon.com/python/data_wrangling/pandas_convert_categorical_to_dummies/\u001b[0m\u001b[1;33m\u001b[0m\u001b[1;33m\u001b[0m\u001b[1;33m\u001b[0m\u001b[0m\n\u001b[1;32m----> 2\u001b[1;33m \u001b[0mdf1\u001b[0m\u001b[1;33m=\u001b[0m\u001b[0mpd\u001b[0m\u001b[1;33m.\u001b[0m\u001b[0mget_dummies\u001b[0m\u001b[1;33m(\u001b[0m\u001b[0mdf\u001b[0m\u001b[1;33m,\u001b[0m \u001b[0mcolumns\u001b[0m\u001b[1;33m=\u001b[0m\u001b[1;33m[\u001b[0m\u001b[1;34m'sex'\u001b[0m\u001b[1;33m]\u001b[0m\u001b[1;33m)\u001b[0m\u001b[1;33m\u001b[0m\u001b[1;33m\u001b[0m\u001b[0m\n\u001b[0m\u001b[0;32m      3\u001b[0m \u001b[0mdf2\u001b[0m\u001b[1;33m=\u001b[0m\u001b[0mpd\u001b[0m\u001b[1;33m.\u001b[0m\u001b[0mget_dummies\u001b[0m\u001b[1;33m(\u001b[0m\u001b[0mdf\u001b[0m\u001b[1;33m,\u001b[0m \u001b[0mcolumns\u001b[0m\u001b[1;33m=\u001b[0m\u001b[1;33m[\u001b[0m\u001b[1;34m'time'\u001b[0m\u001b[1;33m]\u001b[0m\u001b[1;33m)\u001b[0m\u001b[1;33m\u001b[0m\u001b[1;33m\u001b[0m\u001b[0m\n\u001b[0;32m      4\u001b[0m \u001b[0mde3\u001b[0m\u001b[1;33m=\u001b[0m\u001b[0mpd\u001b[0m\u001b[1;33m.\u001b[0m\u001b[0mget_dummies\u001b[0m\u001b[1;33m(\u001b[0m\u001b[0mdf\u001b[0m\u001b[1;33m,\u001b[0m \u001b[0mcolumns\u001b[0m\u001b[1;33m=\u001b[0m\u001b[1;33m[\u001b[0m\u001b[1;34m'day'\u001b[0m\u001b[1;33m]\u001b[0m\u001b[1;33m)\u001b[0m\u001b[1;33m\u001b[0m\u001b[1;33m\u001b[0m\u001b[0m\n\u001b[0;32m      5\u001b[0m \u001b[0mdf\u001b[0m\u001b[1;33m.\u001b[0m\u001b[0minfo\u001b[0m\u001b[1;33m(\u001b[0m\u001b[1;33m)\u001b[0m\u001b[1;33m\u001b[0m\u001b[1;33m\u001b[0m\u001b[0m\n",
      "\u001b[1;31mNameError\u001b[0m: name 'pd' is not defined"
     ]
    }
   ],
   "source": [
    "# https://chrisalbon.com/python/data_wrangling/pandas_convert_categorical_to_dummies/\n",
    "df1=pd.get_dummies(df, columns=['sex'])\n",
    "df2=pd.get_dummies(df, columns=['time'])\n",
    "de3=pd.get_dummies(df, columns=['day'])\n",
    "df.info()"
   ]
  },
  {
   "cell_type": "code",
   "execution_count": null,
   "metadata": {},
   "outputs": [],
   "source": [
    "df_with_dummies = pd.get_dummies(df, prefix='D_', columns=['sex', 'time', 'smoker', 'day'])\n",
    "df_with_dummies.head()\n",
    "df=df.drop('sex', axis=1, inplace=True)\n",
    "df=df.drop('time', axis=1, inplace=True)\n",
    "df=df.drop('smoker', axis=1, inplace=True)\n",
    "df=df.drop('day', axis=1, inplace=True)\n",
    "print(df_with_dummies.head())\n",
    "df = df.join(df_with_dummies)\n",
    "df.head()"
   ]
  },
  {
   "cell_type": "code",
   "execution_count": null,
   "metadata": {},
   "outputs": [],
   "source": []
  },
  {
   "cell_type": "code",
   "execution_count": null,
   "metadata": {},
   "outputs": [],
   "source": [
    "df_with_dummies\n",
    "#df.corr()\n"
   ]
  },
  {
   "cell_type": "code",
   "execution_count": null,
   "metadata": {},
   "outputs": [],
   "source": []
  }
 ],
 "metadata": {
  "kernelspec": {
   "display_name": "Python 3",
   "language": "python",
   "name": "python3"
  },
  "language_info": {
   "codemirror_mode": {
    "name": "ipython",
    "version": 3
   },
   "file_extension": ".py",
   "mimetype": "text/x-python",
   "name": "python",
   "nbconvert_exporter": "python",
   "pygments_lexer": "ipython3",
   "version": "3.7.3"
  }
 },
 "nbformat": 4,
 "nbformat_minor": 2
}
